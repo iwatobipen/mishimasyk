{
 "metadata": {
  "name": "",
  "signature": "sha256:9cd027b17ebefbda8493a52f62f726502dfb5df3f1859a94218f1763fa762d3e"
 },
 "nbformat": 3,
 "nbformat_minor": 0,
 "worksheets": [
  {
   "cells": [
    {
     "cell_type": "code",
     "collapsed": false,
     "input": [
      "from rdkit import Chem\n",
      "from rdkit.Chem import Draw, PandasTools\n",
      "from rdkit.Chem.Draw import IPythonConsole"
     ],
     "language": "python",
     "metadata": {},
     "outputs": [
      {
       "output_type": "stream",
       "stream": "stdout",
       "text": [
        "height has been deprecated.\n",
        "\n"
       ]
      }
     ],
     "prompt_number": 2
    },
    {
     "cell_type": "code",
     "collapsed": false,
     "input": [
      "moldf = PandasTools.LoadSDF(\"cdk2.sdf\")"
     ],
     "language": "python",
     "metadata": {},
     "outputs": [],
     "prompt_number": 3
    },
    {
     "cell_type": "code",
     "collapsed": false,
     "input": [
      "moldf.head(10)\n",
      "moldf[\"Mol2\"] = moldf.ROMol\n"
     ],
     "language": "python",
     "metadata": {},
     "outputs": [],
     "prompt_number": 4
    },
    {
     "cell_type": "code",
     "collapsed": false,
     "input": [
      "moldf.iloc[1:3, 11:15]"
     ],
     "language": "python",
     "metadata": {},
     "outputs": [
      {
       "html": [
        "<div style=\"max-height:1000px;max-width:1500px;overflow:auto;\">\n",
        "<table border=\"1\" class=\"dataframe\">\n",
        "  <thead>\n",
        "    <tr style=\"text-align: right;\">\n",
        "      <th></th>\n",
        "      <th>s_st_Chirality_3</th>\n",
        "      <th>ROMol</th>\n",
        "      <th>Mol2</th>\n",
        "    </tr>\n",
        "  </thead>\n",
        "  <tbody>\n",
        "    <tr>\n",
        "      <th>1</th>\n",
        "      <td> NaN</td>\n",
        "      <td> <img src=\"data:image/png;base64,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\" alt=\"Mol\"/></td>\n",
        "      <td> <img src=\"data:image/png;base64,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\" alt=\"Mol\"/></td>\n",
        "    </tr>\n",
        "    <tr>\n",
        "      <th>2</th>\n",
        "      <td> NaN</td>\n",
        "      <td>                                             <img src=\"data:image/png;base64,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\" alt=\"Mol\"/></td>\n",
        "      <td>                                             <img src=\"data:image/png;base64,iVBORw0KGgoAAAANSUhEUgAAASwAAAEsCAIAAAD2HxkiAAAIUklEQVR4nO3d2XajyBZFUbij/v+XuQ/KpCh1INHsE6E5n2ynPaxEWo4IGjFO0zQAOf9LPwD4dSKEMBFCmAghTIQQJkIIEyGEiRDCRAhhIoQwEUKYCCFMhBAmQggTIYSJEMJECGEihDARQpgIIUyEECZCCBMhhIkQwkQIYSKEMBFCmAghTIQQJkIIEyGEiRDCRAhhIoQwEUKYCCFMhBAmQggTIYSJEMJECGEihDARQpgIIUyEECZCCBMhhIkQwkQIYSKEMBFCmAghTIQQJkIIEyGEiRDCRAhhIoQwEUKYCCFMhBAmQggTIYSJEMJECGEihDARQpgIIUyEECZCCBMhhIkQwkQIYSKEMBFCmAghTIQQJkIIEyGEiRDCRAhhIoQwEUKYCCGsdITjOI7jmH4UcK5/0g/gpXEcp2m6fTB/8fYV6EndCGfL8ARJf8aaL+V5GHz/PcMwDMM0DEPJ/wRsUjHCLQU+/MifD+r9b2BFuenoFwUOi/ZuNUqRhpSL8M5tzrk9y9s3GhhpSK3p6KthcN4f8900dVnmcsys9F/ndxUaCd9MROevf1qjzKivSoTjuKmr/9b48X7RaTIAUk6VCD+1qHH+SuzBwB4lItwzOt3tFx3WajQYUk0+wqOScJSCRuUjPNxqfrfBEIoIX0VhZgjJ44QKhCE+EgKxCIPDoAUhpcQiNBGFG9NRCBMhhIkQwkQIYb8YoTNmKOX0CMfxP6/4+eO7DFTBz/rFkRBKuSJC0z94I3kVhTJhuCzCp5fSLj+9PMg/744BcR1eT0h9n97np9R7Ah7uugitDDt2alTd35nLSMgxzhuspmn67n3ZW3F6hMtN9+rjx09pSN+FXCB5nLD3WQZskozQKpGNbjPS9KM4izNmICwcocGwdRaE++VHQh2yRccz0nyEgw75bSUivFivf1BpVKEJ/dlvgnh3b0OLmf2u34ZdPmuFzpg56X5Jr+4r2v15GLSiUITDnw6PCWPLPX3ntb4UCaoV4X6f30/b1PRLkY3W5fylXIRfb+U9Y1qXTy2tqLh39KMjQuNf0zTtqajjw1Cd6e+ZKjcS3qwOTZ9OO+9+8OlPGQ+JKBrhKzvbW/1BHW5kKx2o9Kacn+mz23v1e6+2nGUVfl6GAhHGH8CBSo+EXx9C+Dranb93l7uDpO5j/DNKR3jzxfuR7I/HoYs3bJZjNRDhFjuHvldOXyLeHrYX9Od6Wr2XjnB1K5/U3tIpT/a89uviNcROpSN85YL2lg7rUHs801iEqVM9d3W4v71KO2nqTAK7mZE2FmFwi3/6lI/jOP39yY2/4OUhipMuMOlF62fhNxZh1pZDF7umym9+RIev3R1MHloLUoSfeXPo4vS/xzp8sJyeLLd8W0HWjbDydH/53F+6l2iesoa2TOUnZekuyM/WBZerG2FxsQuCb78uMSRWu3Zh4/b/9xuq7p0W4VZPB4HYsHDh1PTxvXmGAnO829MxX8W26Weq1lg5whIbqK6TO3zz3jxDel56tw78eEVQrMbKEZZWYnV0woGyj675Wv22wz39pfOne2tMrbTzr6Rnqu0FfHytl4hwGIaDHsmei8Uu2w7bXxUXn1O1k5GweTtPHNk5oF0zJH46UC3HxuK7RgcR9uGLDg8cK85eJe6ZFj3ZNTqsBXn5pdUi7MTGEem8edo0TWcsrA5bmNxdMP3064+/75J1kQjX1Vn+vbd6Ns9w8qTx2EOYJ+4reQzS3tHmVM4ydjbPvw/ggBf2dXvmCjyPFSOstmu0uSOWsbN5/n0Aw7B3LXfgw6muYoQtqP4aqTBQO+F8o4rvwE03bh0WO+e0nIojob+dPcmdcP6VN5dWn6ZihMU183qqpKUtdvljNR1dITnOJkIudbdEnD++Wzf+1DJShBAmQq52t++DKjtm7s6xsBL7QT9bZpUIy3p/fi/feXoc/9Up1t0rNB01S+E3FYqQn+Jv7qxWhFuemOwzZy7K4dpbE6bf/5Zdls/aq48fP+1brZFw2DYYTpPJDP0oF+GjV7HpkD7UvUJ86c2BAVNTWtfASDi8HfRMTWldGxEOa5eHTtNZtyt5dcIxHKWZCIe1QW9+YxVoS0sR3qx2eHiKprucqr0Ih7UO9w+J3haFKzUZ4bA2On3X4a29257Yx2PHsuQkrUY4rO2M+ajDZXuOdnCx9k5bW3r/Lrerh0A/ukWkwZCTtB3h8NUtgf6OkE2cp0D/2jhjZovVDtu6cSS/o58Ih9f3u8zemAHe6yrCm+w9ieBTHUY4GPpoSsOHKN5TIK3oNkJoRYcRVr6NLjzqMEJoiwghTIQQJkIIEyGE9RahXaM0p7cIoTkihLD+IjQXpTH9RQiN6SpCt9GlRV1FCC0SIYSJEMJECGEihLB+IrRrlEb1EyE0SoQQ1k+E5qI0qp8IoVEihDARQpgIIUyEEFYuwru74c6fzjeUX/7T3afQojbu1Ls8G8aZMXSm3Ej41Kvq3EeeDlQcCXXFT6kY4XLce1z13Y2Kt8HQBJV2VYzwKaXRqzbWhO8LtDKkaS2NhDNDIj1x5wYIa2M6Ch0TIYSJEMJECGEihDARQpgIIUyEECZCCBMhhIkQwkQIYSKEMBFCmAghTIQQJkIIEyGEiRDCRAhhIoQwEUKYCCFMhBAmQggTIYSJEMJECGEihDARQpgIIUyEECZCCBMhhIkQwkQIYSKEMBFCmAghTIQQJkIIEyGEiRDCRAhhIoQwEUKYCCFMhBAmQggTIYSJEMJECGEihDARQpgIIUyEECZCCBMhhIkQwkQIYSKEMBFCmAghTIQQJkIIEyGEiRDCRAhhIoQwEUKYCCFMhBAmQggTIYSJEMJECGEihDARQtj/AZTY6/Ncfko8AAAAAElFTkSuQmCC\" alt=\"Mol\"/></td>\n",
        "    </tr>\n",
        "  </tbody>\n",
        "</table>\n",
        "</div>"
       ],
       "metadata": {},
       "output_type": "pyout",
       "prompt_number": 26,
       "text": [
        "  s_st_Chirality_3                                                                                                                                                                                                                                                                                                                                                                                                                                                                                                                                                                                                                                                                                                                                                                                                                                                                                                                                                                                                                                                                                                                                                                                                                                                                                                                                                                                                                                                                                                                                                                                                                                                                                                                                                                                                                                                                                                                                                                                                                                                                                                                                                                                                                                                                                                                                                                                                                                                                                                                                                                                                                                                                                                                                                                                                                                                                                                                                                                                                                                                                                                                          ROMol                                                                                                                                                                                                                                                                                                                                                                                                                                                                                                                                                                                                                                                                                                                                                                                                                                                                                                                                                                                                                                                                                                                                                                                                                                                                                                                                                                                                                                                                                                                                                                                                                                                                                                                                                                                                                                                                                                                                                                                                                                                                                                                                                                                                                                                                                                                                                                                                                                                                                                                                                                                                                                                                                                                                                                                                                                                                                                                                                                                                                                                                                                                           Mol2\n",
        "1              NaN  <img src=\"data:image/png;base64,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\" alt=\"Mol\"/>  <img src=\"data:image/png;base64,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\" alt=\"Mol\"/>\n",
        "2              NaN                                              <img src=\"data:image/png;base64,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\" alt=\"Mol\"/>                                              <img src=\"data:image/png;base64,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\" alt=\"Mol\"/>"
       ]
      }
     ],
     "prompt_number": 26
    },
    {
     "cell_type": "code",
     "collapsed": false,
     "input": [
      "mol = moldf.ROMol[0]\n",
      "refmol = moldf.ROMol[1]"
     ],
     "language": "python",
     "metadata": {},
     "outputs": [],
     "prompt_number": 5
    },
    {
     "cell_type": "code",
     "collapsed": false,
     "input": [
      "Draw.MolsToGridImage([mol, refmol])"
     ],
     "language": "python",
     "metadata": {},
     "outputs": [
      {
       "metadata": {},
       "output_type": "pyout",
       "png": "[encoded data removed]",
       "prompt_number": 7,
       "text": [
        "<PIL.Image.Image image mode=RGBA size=600x200 at 0x111A19EF0>"
       ]
      }
     ],
     "prompt_number": 7
    },
    {
     "cell_type": "code",
     "collapsed": false,
     "input": [
      "from rdkit.Chem.Draw import SimilarityMaps"
     ],
     "language": "python",
     "metadata": {},
     "outputs": [],
     "prompt_number": 8
    },
    {
     "cell_type": "code",
     "collapsed": false,
     "input": [
      "fp = SimilarityMaps.GetMorganFingerprint(mol, fpType='bv')"
     ],
     "language": "python",
     "metadata": {},
     "outputs": [],
     "prompt_number": 9
    },
    {
     "cell_type": "code",
     "collapsed": false,
     "input": [
      "f,w = SimilarityMaps.GetSimilarityMapForFingerprint(refmol,mol,SimilarityMaps.GetMorganFingerprint)"
     ],
     "language": "python",
     "metadata": {},
     "outputs": [],
     "prompt_number": 10
    },
    {
     "cell_type": "code",
     "collapsed": false,
     "input": [
      "print w"
     ],
     "language": "python",
     "metadata": {},
     "outputs": [
      {
       "output_type": "stream",
       "stream": "stdout",
       "text": [
        "0.269275028769\n"
       ]
      }
     ],
     "prompt_number": 11
    },
    {
     "cell_type": "code",
     "collapsed": false,
     "input": [
      "f.savefig(\"hoge.png\", bbox_inches='tight')"
     ],
     "language": "python",
     "metadata": {},
     "outputs": [],
     "prompt_number": 12
    },
    {
     "cell_type": "code",
     "collapsed": false,
     "input": [
      "#FRaggle\n",
      "from rdkit.Chem.Fraggle import FraggleSim"
     ],
     "language": "python",
     "metadata": {},
     "outputs": [],
     "prompt_number": 13
    },
    {
     "cell_type": "code",
     "collapsed": false,
     "input": [
      "sims = []\n",
      "for i in range( len(moldf.ROMol[:10])):\n",
      "    for j in range(i):\n",
      "        sim, frag = FraggleSim.GetFraggleSimilarity(moldf.ROMol[i], moldf.ROMol[j])\n",
      "        sims.append((sim, frag))\n",
      "        \n",
      "        "
     ],
     "language": "python",
     "metadata": {},
     "outputs": [],
     "prompt_number": 20
    },
    {
     "cell_type": "code",
     "collapsed": false,
     "input": [
      "Chem.MolFromSmiles(sims[1][1])"
     ],
     "language": "python",
     "metadata": {},
     "outputs": [
      {
       "metadata": {},
       "output_type": "pyout",
       "png": "[encoded data removed]",
       "prompt_number": 21,
       "text": [
        "<rdkit.Chem.rdchem.Mol at 0x114db3ec0>"
       ]
      }
     ],
     "prompt_number": 21
    },
    {
     "cell_type": "code",
     "collapsed": false,
     "input": [],
     "language": "python",
     "metadata": {},
     "outputs": []
    }
   ],
   "metadata": {}
  }
 ]
}