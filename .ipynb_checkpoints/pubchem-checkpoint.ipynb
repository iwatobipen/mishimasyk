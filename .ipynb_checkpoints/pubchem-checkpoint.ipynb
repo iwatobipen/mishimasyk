{
 "metadata": {
  "name": "",
  "signature": "sha256:c1ffcd68df0d9aeb0364e627952518bf3bfd82b0f6e0063af833243d23c80e69"
 },
 "nbformat": 3,
 "nbformat_minor": 0,
 "worksheets": [
  {
   "cells": [
    {
     "cell_type": "code",
     "collapsed": false,
     "input": [
      "from rdkit import Chem\n",
      "from rdkit.Dbase.Pubmed import QueryParams"
     ],
     "language": "python",
     "metadata": {},
     "outputs": [],
     "prompt_number": 5
    },
    {
     "cell_type": "code",
     "collapsed": false,
     "input": [
      "query = QueryParams.details()"
     ],
     "language": "python",
     "metadata": {},
     "outputs": [],
     "prompt_number": 7
    },
    {
     "cell_type": "code",
     "collapsed": false,
     "input": [],
     "language": "python",
     "metadata": {},
     "outputs": []
    }
   ],
   "metadata": {}
  }
 ]
}