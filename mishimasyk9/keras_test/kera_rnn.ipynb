{
 "cells": [
  {
   "cell_type": "code",
   "execution_count": 4,
   "metadata": {
    "collapsed": true
   },
   "outputs": [],
   "source": [
    "import numpy as np\n",
    "import pandas as pd\n",
    "from rdkit import Chem\n",
    "from rdkit.Chem import AllChem\n",
    "from rdkit.Chem import DataStructs\n",
    "from rdkit.Chem import PandasTools"
   ]
  },
  {
   "cell_type": "code",
   "execution_count": 5,
   "metadata": {
    "collapsed": true
   },
   "outputs": [],
   "source": [
    "df = pd.read_excel( 'ci4001376_si_002.xlsx', header=0 )"
   ]
  },
  {
   "cell_type": "code",
   "execution_count": 6,
   "metadata": {
    "collapsed": false
   },
   "outputs": [
    {
     "data": {
      "text/html": [
       "<div>\n",
       "<table border=\"1\" class=\"dataframe\">\n",
       "  <thead>\n",
       "    <tr style=\"text-align: right;\">\n",
       "      <th></th>\n",
       "      <th>COMPOUND_NAME</th>\n",
       "      <th>SMILES</th>\n",
       "      <th>CDK5_pIC50</th>\n",
       "    </tr>\n",
       "  </thead>\n",
       "  <tbody>\n",
       "    <tr>\n",
       "      <th>0</th>\n",
       "      <td>2476896</td>\n",
       "      <td>CC(C)n1c(=O)ccc2c1nc(nc2)Nc3ccc(cc3)OC</td>\n",
       "      <td>8.008774</td>\n",
       "    </tr>\n",
       "    <tr>\n",
       "      <th>1</th>\n",
       "      <td>2476895</td>\n",
       "      <td>CCn1c(=O)ccc2c1nc(nc2)Nc3ccc(c(c3)OC)OC</td>\n",
       "      <td>7.522879</td>\n",
       "    </tr>\n",
       "    <tr>\n",
       "      <th>2</th>\n",
       "      <td>2476818</td>\n",
       "      <td>CCn1c(=O)ccc2c1nc(nc2)Nc3ccc(cc3)F</td>\n",
       "      <td>7.275724</td>\n",
       "    </tr>\n",
       "    <tr>\n",
       "      <th>3</th>\n",
       "      <td>2476898</td>\n",
       "      <td>CCC(CC)n1c(=O)ccc2c1nc(nc2)Nc3ccccc3</td>\n",
       "      <td>8.060481</td>\n",
       "    </tr>\n",
       "    <tr>\n",
       "      <th>4</th>\n",
       "      <td>2476893</td>\n",
       "      <td>CC(C)n1c(=O)ccc2c1nc(nc2)Nc3ccc(cc3)O</td>\n",
       "      <td>7.823909</td>\n",
       "    </tr>\n",
       "  </tbody>\n",
       "</table>\n",
       "</div>"
      ],
      "text/plain": [
       "   COMPOUND_NAME                                   SMILES  CDK5_pIC50\n",
       "0        2476896   CC(C)n1c(=O)ccc2c1nc(nc2)Nc3ccc(cc3)OC    8.008774\n",
       "1        2476895  CCn1c(=O)ccc2c1nc(nc2)Nc3ccc(c(c3)OC)OC    7.522879\n",
       "2        2476818       CCn1c(=O)ccc2c1nc(nc2)Nc3ccc(cc3)F    7.275724\n",
       "3        2476898     CCC(CC)n1c(=O)ccc2c1nc(nc2)Nc3ccccc3    8.060481\n",
       "4        2476893    CC(C)n1c(=O)ccc2c1nc(nc2)Nc3ccc(cc3)O    7.823909"
      ]
     },
     "execution_count": 6,
     "metadata": {},
     "output_type": "execute_result"
    }
   ],
   "source": [
    "df.head()"
   ]
  },
  {
   "cell_type": "code",
   "execution_count": 62,
   "metadata": {
    "collapsed": false
   },
   "outputs": [],
   "source": [
    "PandasTools.AddMoleculeColumnToFrame( df, smilesCol=\"SMILES\" )"
   ]
  },
  {
   "cell_type": "code",
   "execution_count": 63,
   "metadata": {
    "collapsed": false
   },
   "outputs": [],
   "source": [
    "def calc_fp_arr( mol, nBits=1024 ):\n",
    "    arr =np.zeros((1,))\n",
    "    fps = AllChem.GetMorganFingerprintAsBitVect( mol, 2, nBits=nBits  )\n",
    "    DataStructs.ConvertToNumpyArray( fps, arr )\n",
    "    return arr"
   ]
  },
  {
   "cell_type": "code",
   "execution_count": 160,
   "metadata": {
    "collapsed": false
   },
   "outputs": [
    {
     "name": "stdout",
     "output_type": "stream",
     "text": [
      "112.0\n"
     ]
    }
   ],
   "source": [
    "X = np.array([ calc_fp_arr(mol) for mol in df.ROMol ])\n",
    "Y = []\n",
    "for pic50 in df.CDK5_pIC50:\n",
    "    if pic50 > 7.0:\n",
    "        Y.append(1.)\n",
    "    else:\n",
    "        Y.append(0.)\n",
    "Y = np.array(Y)\n",
    "print(sum(Y))"
   ]
  },
  {
   "cell_type": "code",
   "execution_count": 161,
   "metadata": {
    "collapsed": true
   },
   "outputs": [],
   "source": [
    "from sklearn.cross_validation import train_test_split"
   ]
  },
  {
   "cell_type": "code",
   "execution_count": 162,
   "metadata": {
    "collapsed": false
   },
   "outputs": [],
   "source": [
    "trainx, testx, trainy, testy = train_test_split(X, Y,  test_size=0.1 )\n"
   ]
  },
  {
   "cell_type": "code",
   "execution_count": 169,
   "metadata": {
    "collapsed": true
   },
   "outputs": [],
   "source": [
    "from keras.models import Sequential\n",
    "from keras.layers.core import Dense, Activation\n",
    "from keras.layers.recurrent import LSTM\n",
    "from sklearn import metrics"
   ]
  },
  {
   "cell_type": "code",
   "execution_count": 164,
   "metadata": {
    "collapsed": false
   },
   "outputs": [],
   "source": [
    "#Simple DNN\n",
    "model = Sequential()\n",
    "model.add( Dense(500, input_dim=1024, activation='relu') )\n",
    "model.add( Dense(10,  activation='relu') )\n",
    "model.add( Dense(1, activation='sigmoid') )\n",
    "\n"
   ]
  },
  {
   "cell_type": "code",
   "execution_count": 165,
   "metadata": {
    "collapsed": true
   },
   "outputs": [],
   "source": [
    "model.compile( loss='binary_crossentropy',\n",
    "              optimizer='adam',\n",
    "              metrics=['accuracy'] )"
   ]
  },
  {
   "cell_type": "code",
   "execution_count": 166,
   "metadata": {
    "collapsed": false
   },
   "outputs": [
    {
     "name": "stdout",
     "output_type": "stream",
     "text": [
      "Epoch 1/100\n",
      "207/207 [==============================] - 0s - loss: 0.6836 - acc: 0.6280     \n",
      "Epoch 2/100\n",
      "207/207 [==============================] - 0s - loss: 0.6270 - acc: 0.7391     \n",
      "Epoch 3/100\n",
      "207/207 [==============================] - 0s - loss: 0.5699 - acc: 0.7971     \n",
      "Epoch 4/100\n",
      "207/207 [==============================] - 0s - loss: 0.5282 - acc: 0.8213     \n",
      "Epoch 5/100\n",
      "207/207 [==============================] - 0s - loss: 0.4825 - acc: 0.8309     \n",
      "Epoch 6/100\n",
      "207/207 [==============================] - 0s - loss: 0.4479 - acc: 0.8309     \n",
      "Epoch 7/100\n",
      "207/207 [==============================] - 0s - loss: 0.4213 - acc: 0.8551     \n",
      "Epoch 8/100\n",
      "207/207 [==============================] - 0s - loss: 0.3949 - acc: 0.8406     \n",
      "Epoch 9/100\n",
      "207/207 [==============================] - 0s - loss: 0.3713 - acc: 0.8502     \n",
      "Epoch 10/100\n",
      "207/207 [==============================] - 0s - loss: 0.3522 - acc: 0.8696     \n",
      "Epoch 11/100\n",
      "207/207 [==============================] - 0s - loss: 0.3369 - acc: 0.8696     \n",
      "Epoch 12/100\n",
      "207/207 [==============================] - 0s - loss: 0.3276 - acc: 0.8551     \n",
      "Epoch 13/100\n",
      "207/207 [==============================] - 0s - loss: 0.3220 - acc: 0.8599     \n",
      "Epoch 14/100\n",
      "207/207 [==============================] - 0s - loss: 0.3054 - acc: 0.8647     \n",
      "Epoch 15/100\n",
      "207/207 [==============================] - 0s - loss: 0.2937 - acc: 0.8744     \n",
      "Epoch 16/100\n",
      "207/207 [==============================] - 0s - loss: 0.2969 - acc: 0.8599     \n",
      "Epoch 17/100\n",
      "207/207 [==============================] - 0s - loss: 0.2892 - acc: 0.8696     \n",
      "Epoch 18/100\n",
      "207/207 [==============================] - 0s - loss: 0.2757 - acc: 0.8792     \n",
      "Epoch 19/100\n",
      "207/207 [==============================] - 0s - loss: 0.2648 - acc: 0.8744     \n",
      "Epoch 20/100\n",
      "207/207 [==============================] - 0s - loss: 0.2546 - acc: 0.8889     \n",
      "Epoch 21/100\n",
      "207/207 [==============================] - 0s - loss: 0.2455 - acc: 0.9034     \n",
      "Epoch 22/100\n",
      "207/207 [==============================] - 0s - loss: 0.2370 - acc: 0.9034     \n",
      "Epoch 23/100\n",
      "207/207 [==============================] - 0s - loss: 0.2433 - acc: 0.8986     \n",
      "Epoch 24/100\n",
      "207/207 [==============================] - 0s - loss: 0.2612 - acc: 0.8599     \n",
      "Epoch 25/100\n",
      "207/207 [==============================] - 0s - loss: 0.2459 - acc: 0.8792     \n",
      "Epoch 26/100\n",
      "207/207 [==============================] - 0s - loss: 0.2156 - acc: 0.9130     \n",
      "Epoch 27/100\n",
      "207/207 [==============================] - 0s - loss: 0.2065 - acc: 0.9130     \n",
      "Epoch 28/100\n",
      "207/207 [==============================] - 0s - loss: 0.2048 - acc: 0.9179     \n",
      "Epoch 29/100\n",
      "207/207 [==============================] - 0s - loss: 0.1990 - acc: 0.9324     \n",
      "Epoch 30/100\n",
      "207/207 [==============================] - 0s - loss: 0.2081 - acc: 0.8986     \n",
      "Epoch 31/100\n",
      "207/207 [==============================] - 0s - loss: 0.2216 - acc: 0.8937     \n",
      "Epoch 32/100\n",
      "207/207 [==============================] - 0s - loss: 0.2152 - acc: 0.8889     \n",
      "Epoch 33/100\n",
      "207/207 [==============================] - 0s - loss: 0.1941 - acc: 0.9324     \n",
      "Epoch 34/100\n",
      "207/207 [==============================] - 0s - loss: 0.1846 - acc: 0.9372     \n",
      "Epoch 35/100\n",
      "207/207 [==============================] - 0s - loss: 0.1963 - acc: 0.9324     \n",
      "Epoch 36/100\n",
      "207/207 [==============================] - 0s - loss: 0.1880 - acc: 0.9275     \n",
      "Epoch 37/100\n",
      "207/207 [==============================] - 0s - loss: 0.1649 - acc: 0.9517     \n",
      "Epoch 38/100\n",
      "207/207 [==============================] - 0s - loss: 0.1740 - acc: 0.9275     \n",
      "Epoch 39/100\n",
      "207/207 [==============================] - 0s - loss: 0.1923 - acc: 0.9227     \n",
      "Epoch 40/100\n",
      "207/207 [==============================] - 0s - loss: 0.1810 - acc: 0.9179     \n",
      "Epoch 41/100\n",
      "207/207 [==============================] - 0s - loss: 0.1539 - acc: 0.9420     \n",
      "Epoch 42/100\n",
      "207/207 [==============================] - 0s - loss: 0.1501 - acc: 0.9420     \n",
      "Epoch 43/100\n",
      "207/207 [==============================] - 0s - loss: 0.1668 - acc: 0.9324     \n",
      "Epoch 44/100\n",
      "207/207 [==============================] - 0s - loss: 0.1677 - acc: 0.9227     \n",
      "Epoch 45/100\n",
      "207/207 [==============================] - 0s - loss: 0.1480 - acc: 0.9324     \n",
      "Epoch 46/100\n",
      "207/207 [==============================] - 0s - loss: 0.1337 - acc: 0.9517     \n",
      "Epoch 47/100\n",
      "207/207 [==============================] - 0s - loss: 0.1574 - acc: 0.9372     \n",
      "Epoch 48/100\n",
      "207/207 [==============================] - 0s - loss: 0.1921 - acc: 0.9227     \n",
      "Epoch 49/100\n",
      "207/207 [==============================] - 0s - loss: 0.1789 - acc: 0.9227     \n",
      "Epoch 50/100\n",
      "207/207 [==============================] - 0s - loss: 0.1434 - acc: 0.9372     \n",
      "Epoch 51/100\n",
      "207/207 [==============================] - 0s - loss: 0.1190 - acc: 0.9565     \n",
      "Epoch 52/100\n",
      "207/207 [==============================] - 0s - loss: 0.1208 - acc: 0.9565     \n",
      "Epoch 53/100\n",
      "207/207 [==============================] - 0s - loss: 0.1320 - acc: 0.9372     \n",
      "Epoch 54/100\n",
      "207/207 [==============================] - 0s - loss: 0.1190 - acc: 0.9565     \n",
      "Epoch 55/100\n",
      "207/207 [==============================] - 0s - loss: 0.1086 - acc: 0.9662     \n",
      "Epoch 56/100\n",
      "207/207 [==============================] - 0s - loss: 0.1163 - acc: 0.9614     \n",
      "Epoch 57/100\n",
      "207/207 [==============================] - 0s - loss: 0.1105 - acc: 0.9758     \n",
      "Epoch 58/100\n",
      "207/207 [==============================] - 0s - loss: 0.1082 - acc: 0.9614     \n",
      "Epoch 59/100\n",
      "207/207 [==============================] - 0s - loss: 0.1105 - acc: 0.9614     \n",
      "Epoch 60/100\n",
      "207/207 [==============================] - 0s - loss: 0.1071 - acc: 0.9614     \n",
      "Epoch 61/100\n",
      "207/207 [==============================] - 0s - loss: 0.1057 - acc: 0.9662     \n",
      "Epoch 62/100\n",
      "207/207 [==============================] - 0s - loss: 0.1069 - acc: 0.9614     \n",
      "Epoch 63/100\n",
      "207/207 [==============================] - 0s - loss: 0.1044 - acc: 0.9614     \n",
      "Epoch 64/100\n",
      "207/207 [==============================] - 0s - loss: 0.0970 - acc: 0.9614     \n",
      "Epoch 65/100\n",
      "207/207 [==============================] - 0s - loss: 0.0890 - acc: 0.9758     \n",
      "Epoch 66/100\n",
      "207/207 [==============================] - 0s - loss: 0.0850 - acc: 0.9758     \n",
      "Epoch 67/100\n",
      "207/207 [==============================] - 0s - loss: 0.0813 - acc: 0.9807     \n",
      "Epoch 68/100\n",
      "207/207 [==============================] - 0s - loss: 0.0792 - acc: 0.9807     \n",
      "Epoch 69/100\n",
      "207/207 [==============================] - 0s - loss: 0.0791 - acc: 0.9807     \n",
      "Epoch 70/100\n",
      "207/207 [==============================] - 0s - loss: 0.0786 - acc: 0.9758     \n",
      "Epoch 71/100\n",
      "207/207 [==============================] - 0s - loss: 0.0774 - acc: 0.9807     \n",
      "Epoch 72/100\n",
      "207/207 [==============================] - 0s - loss: 0.0752 - acc: 0.9807     \n",
      "Epoch 73/100\n",
      "207/207 [==============================] - 0s - loss: 0.0773 - acc: 0.9807     \n",
      "Epoch 74/100\n",
      "207/207 [==============================] - 0s - loss: 0.0767 - acc: 0.9710     \n",
      "Epoch 75/100\n",
      "207/207 [==============================] - 0s - loss: 0.0714 - acc: 0.9758     \n",
      "Epoch 76/100\n",
      "207/207 [==============================] - 0s - loss: 0.0677 - acc: 0.9807     \n",
      "Epoch 77/100\n",
      "207/207 [==============================] - 0s - loss: 0.0664 - acc: 0.9807     \n",
      "Epoch 78/100\n",
      "207/207 [==============================] - 0s - loss: 0.0648 - acc: 0.9807     \n",
      "Epoch 79/100\n",
      "207/207 [==============================] - 0s - loss: 0.0628 - acc: 0.9807     \n",
      "Epoch 80/100\n",
      "207/207 [==============================] - 0s - loss: 0.0598 - acc: 0.9855     \n",
      "Epoch 81/100\n",
      "207/207 [==============================] - 0s - loss: 0.0575 - acc: 0.9855     \n",
      "Epoch 82/100\n",
      "207/207 [==============================] - 0s - loss: 0.0558 - acc: 0.9903     \n",
      "Epoch 83/100\n",
      "207/207 [==============================] - 0s - loss: 0.0542 - acc: 0.9952     \n",
      "Epoch 84/100\n",
      "207/207 [==============================] - 0s - loss: 0.0528 - acc: 0.9952     \n",
      "Epoch 85/100\n",
      "207/207 [==============================] - 0s - loss: 0.0542 - acc: 0.9855     \n",
      "Epoch 86/100\n",
      "207/207 [==============================] - 0s - loss: 0.0765 - acc: 0.9758     \n",
      "Epoch 87/100\n",
      "207/207 [==============================] - 0s - loss: 0.0929 - acc: 0.9662     \n",
      "Epoch 88/100\n",
      "207/207 [==============================] - 0s - loss: 0.0853 - acc: 0.9710     \n",
      "Epoch 89/100\n",
      "207/207 [==============================] - 0s - loss: 0.0588 - acc: 0.9855     \n",
      "Epoch 90/100\n",
      "207/207 [==============================] - 0s - loss: 0.0562 - acc: 0.9952     \n",
      "Epoch 91/100\n",
      "207/207 [==============================] - 0s - loss: 0.0746 - acc: 0.9662     \n",
      "Epoch 92/100\n",
      "207/207 [==============================] - 0s - loss: 0.0747 - acc: 0.9662     \n",
      "Epoch 93/100\n",
      "207/207 [==============================] - 0s - loss: 0.0605 - acc: 0.9855     \n",
      "Epoch 94/100\n",
      "207/207 [==============================] - 0s - loss: 0.0536 - acc: 0.9903     \n",
      "Epoch 95/100\n",
      "207/207 [==============================] - 0s - loss: 0.0555 - acc: 0.9903     \n",
      "Epoch 96/100\n",
      "207/207 [==============================] - 0s - loss: 0.0617 - acc: 0.9807     \n",
      "Epoch 97/100\n",
      "207/207 [==============================] - 0s - loss: 0.0581 - acc: 0.9855     \n",
      "Epoch 98/100\n",
      "207/207 [==============================] - 0s - loss: 0.0485 - acc: 0.9903     \n",
      "Epoch 99/100\n",
      "207/207 [==============================] - 0s - loss: 0.0452 - acc: 0.9903     \n",
      "Epoch 100/100\n",
      "207/207 [==============================] - 0s - loss: 0.0489 - acc: 0.9903     \n"
     ]
    },
    {
     "data": {
      "text/plain": [
       "<keras.callbacks.History at 0x128f3dc18>"
      ]
     },
     "execution_count": 166,
     "metadata": {},
     "output_type": "execute_result"
    }
   ],
   "source": [
    "model.fit(trainx,trainy, nb_epoch=100, batch_size=200)"
   ]
  },
  {
   "cell_type": "code",
   "execution_count": 171,
   "metadata": {
    "collapsed": false
   },
   "outputs": [
    {
     "data": {
      "text/plain": [
       "'             precision    recall  f1-score   support\\n\\n        0.0       0.57      0.80      0.67        10\\n        1.0       0.78      0.54      0.64        13\\n\\navg / total       0.69      0.65      0.65        23\\n'"
      ]
     },
     "execution_count": 171,
     "metadata": {},
     "output_type": "execute_result"
    }
   ],
   "source": [
    "p = model.predict(testx)\n",
    "ro = [ round(x[0]) for x in p]\n",
    "metrics.classification_report(ro,testy)"
   ]
  },
  {
   "cell_type": "code",
   "execution_count": 173,
   "metadata": {
    "collapsed": true
   },
   "outputs": [],
   "source": [
    "from keras.utils.visualize_util import model_to_dot, plot\n",
    "from IPython.display import SVG\n"
   ]
  },
  {
   "cell_type": "code",
   "execution_count": 175,
   "metadata": {
    "collapsed": true
   },
   "outputs": [],
   "source": [
    "from keras.models import Sequential\n",
    "from keras.layers import Dense, Dropout\n",
    "from keras.layers import Convolution2D, Convolution1D, MaxPooling1D, MaxPooling2D\n",
    "from keras.optimizers import SGD"
   ]
  },
  {
   "cell_type": "code",
   "execution_count": 176,
   "metadata": {
    "collapsed": true
   },
   "outputs": [],
   "source": [
    "model2 = Sequential()"
   ]
  },
  {
   "cell_type": "code",
   "execution_count": 177,
   "metadata": {
    "collapsed": true
   },
   "outputs": [],
   "source": [
    "model2.add( Convolution1D( 1024, 3, border_mode='same', input_shape=(1,1024)  ) )"
   ]
  },
  {
   "cell_type": "code",
   "execution_count": 181,
   "metadata": {
    "collapsed": false
   },
   "outputs": [
    {
     "ename": "Exception",
     "evalue": "Input 0 is incompatible with layer convolution1d_5: expected ndim=3, found ndim=2",
     "output_type": "error",
     "traceback": [
      "\u001b[0;31m---------------------------------------------------------------------------\u001b[0m",
      "\u001b[0;31mException\u001b[0m                                 Traceback (most recent call last)",
      "\u001b[0;32m<ipython-input-181-d3ef4a3f9f5b>\u001b[0m in \u001b[0;36m<module>\u001b[0;34m()\u001b[0m\n\u001b[0;32m----> 1\u001b[0;31m \u001b[0mmodel\u001b[0m\u001b[0;34m.\u001b[0m\u001b[0madd\u001b[0m\u001b[0;34m(\u001b[0m\u001b[0mConvolution1D\u001b[0m\u001b[0;34m(\u001b[0m\u001b[0;36m1\u001b[0m\u001b[0;34m,\u001b[0m \u001b[0;36m1\u001b[0m\u001b[0;34m,\u001b[0m \u001b[0mborder_mode\u001b[0m\u001b[0;34m=\u001b[0m\u001b[0;34m'same'\u001b[0m\u001b[0;34m)\u001b[0m\u001b[0;34m)\u001b[0m\u001b[0;34m\u001b[0m\u001b[0m\n\u001b[0m",
      "\u001b[0;32m/Users/iwatobipen/.pyenv/versions/anaconda3-2.4.0/lib/python3.5/site-packages/keras/models.py\u001b[0m in \u001b[0;36madd\u001b[0;34m(self, layer)\u001b[0m\n\u001b[1;32m    140\u001b[0m                  output_shapes=[self.outputs[0]._keras_shape])\n\u001b[1;32m    141\u001b[0m         \u001b[0;32melse\u001b[0m\u001b[0;34m:\u001b[0m\u001b[0;34m\u001b[0m\u001b[0m\n\u001b[0;32m--> 142\u001b[0;31m             \u001b[0moutput_tensor\u001b[0m \u001b[0;34m=\u001b[0m \u001b[0mlayer\u001b[0m\u001b[0;34m(\u001b[0m\u001b[0mself\u001b[0m\u001b[0;34m.\u001b[0m\u001b[0moutputs\u001b[0m\u001b[0;34m[\u001b[0m\u001b[0;36m0\u001b[0m\u001b[0;34m]\u001b[0m\u001b[0;34m)\u001b[0m\u001b[0;34m\u001b[0m\u001b[0m\n\u001b[0m\u001b[1;32m    143\u001b[0m             \u001b[0;32mif\u001b[0m \u001b[0mtype\u001b[0m\u001b[0;34m(\u001b[0m\u001b[0moutput_tensor\u001b[0m\u001b[0;34m)\u001b[0m \u001b[0;32mis\u001b[0m \u001b[0mlist\u001b[0m\u001b[0;34m:\u001b[0m\u001b[0;34m\u001b[0m\u001b[0m\n\u001b[1;32m    144\u001b[0m                 raise Exception('All layers in a Sequential model '\n",
      "\u001b[0;32m/Users/iwatobipen/.pyenv/versions/anaconda3-2.4.0/lib/python3.5/site-packages/keras/engine/topology.py\u001b[0m in \u001b[0;36m__call__\u001b[0;34m(self, x, mask)\u001b[0m\n\u001b[1;32m    439\u001b[0m             \u001b[0;31m# raise exceptions in case the input is not compatible\u001b[0m\u001b[0;34m\u001b[0m\u001b[0;34m\u001b[0m\u001b[0m\n\u001b[1;32m    440\u001b[0m             \u001b[0;31m# with the input_spec specified in the layer constructor\u001b[0m\u001b[0;34m\u001b[0m\u001b[0;34m\u001b[0m\u001b[0m\n\u001b[0;32m--> 441\u001b[0;31m             \u001b[0mself\u001b[0m\u001b[0;34m.\u001b[0m\u001b[0massert_input_compatibility\u001b[0m\u001b[0;34m(\u001b[0m\u001b[0mx\u001b[0m\u001b[0;34m)\u001b[0m\u001b[0;34m\u001b[0m\u001b[0m\n\u001b[0m\u001b[1;32m    442\u001b[0m \u001b[0;34m\u001b[0m\u001b[0m\n\u001b[1;32m    443\u001b[0m             \u001b[0;31m# collect input shapes to build layer\u001b[0m\u001b[0;34m\u001b[0m\u001b[0;34m\u001b[0m\u001b[0m\n",
      "\u001b[0;32m/Users/iwatobipen/.pyenv/versions/anaconda3-2.4.0/lib/python3.5/site-packages/keras/engine/topology.py\u001b[0m in \u001b[0;36massert_input_compatibility\u001b[0;34m(self, input)\u001b[0m\n\u001b[1;32m    380\u001b[0m                                         \u001b[0mself\u001b[0m\u001b[0;34m.\u001b[0m\u001b[0mname\u001b[0m \u001b[0;34m+\u001b[0m \u001b[0;34m': expected ndim='\u001b[0m \u001b[0;34m+\u001b[0m\u001b[0;34m\u001b[0m\u001b[0m\n\u001b[1;32m    381\u001b[0m                                         \u001b[0mstr\u001b[0m\u001b[0;34m(\u001b[0m\u001b[0mspec\u001b[0m\u001b[0;34m.\u001b[0m\u001b[0mndim\u001b[0m\u001b[0;34m)\u001b[0m \u001b[0;34m+\u001b[0m \u001b[0;34m', found ndim='\u001b[0m \u001b[0;34m+\u001b[0m\u001b[0;34m\u001b[0m\u001b[0m\n\u001b[0;32m--> 382\u001b[0;31m                                         str(K.ndim(x)))\n\u001b[0m\u001b[1;32m    383\u001b[0m             \u001b[0;32mif\u001b[0m \u001b[0mspec\u001b[0m\u001b[0;34m.\u001b[0m\u001b[0mdtype\u001b[0m \u001b[0;32mis\u001b[0m \u001b[0;32mnot\u001b[0m \u001b[0;32mNone\u001b[0m\u001b[0;34m:\u001b[0m\u001b[0;34m\u001b[0m\u001b[0m\n\u001b[1;32m    384\u001b[0m                 \u001b[0;32mif\u001b[0m \u001b[0mK\u001b[0m\u001b[0;34m.\u001b[0m\u001b[0mdtype\u001b[0m\u001b[0;34m(\u001b[0m\u001b[0mx\u001b[0m\u001b[0;34m)\u001b[0m \u001b[0;34m!=\u001b[0m \u001b[0mspec\u001b[0m\u001b[0;34m.\u001b[0m\u001b[0mdtype\u001b[0m\u001b[0;34m:\u001b[0m\u001b[0;34m\u001b[0m\u001b[0m\n",
      "\u001b[0;31mException\u001b[0m: Input 0 is incompatible with layer convolution1d_5: expected ndim=3, found ndim=2"
     ]
    }
   ],
   "source": [
    "model.add(Convolution1D(1, 1, border_mode='same'))"
   ]
  },
  {
   "cell_type": "code",
   "execution_count": 182,
   "metadata": {
    "collapsed": true
   },
   "outputs": [],
   "source": [
    "from keras.layers import Embedding"
   ]
  },
  {
   "cell_type": "code",
   "execution_count": null,
   "metadata": {
    "collapsed": true
   },
   "outputs": [],
   "source": []
  }
 ],
 "metadata": {
  "kernelspec": {
   "display_name": "Python 3",
   "language": "python",
   "name": "python3"
  },
  "language_info": {
   "codemirror_mode": {
    "name": "ipython",
    "version": 3
   },
   "file_extension": ".py",
   "mimetype": "text/x-python",
   "name": "python",
   "nbconvert_exporter": "python",
   "pygments_lexer": "ipython3",
   "version": "3.5.1"
  }
 },
 "nbformat": 4,
 "nbformat_minor": 0
}
