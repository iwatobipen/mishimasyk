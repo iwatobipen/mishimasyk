{
 "cells": [
  {
   "cell_type": "code",
   "execution_count": 2,
   "metadata": {
    "collapsed": true
   },
   "outputs": [],
   "source": [
    "from __future__ import print_function"
   ]
  },
  {
   "cell_type": "code",
   "execution_count": 3,
   "metadata": {
    "collapsed": true
   },
   "outputs": [],
   "source": [
    "from openeye import oechem\n",
    "from openeye import oemedchem"
   ]
  },
  {
   "cell_type": "code",
   "execution_count": 4,
   "metadata": {
    "collapsed": true
   },
   "outputs": [],
   "source": [
    "mol = oechem.OEGraphMol()"
   ]
  },
  {
   "cell_type": "code",
   "execution_count": 5,
   "metadata": {
    "collapsed": false
   },
   "outputs": [
    {
     "data": {
      "text/plain": [
       "True"
      ]
     },
     "execution_count": 5,
     "metadata": {},
     "output_type": "execute_result"
    }
   ],
   "source": [
    "ifs = oechem.oemolistream()\n",
    "ofs = oechem.oemolostream()\n",
    "ifs.SetFormat(oechem.OEFormat_SDF)"
   ]
  },
  {
   "cell_type": "code",
   "execution_count": 6,
   "metadata": {
    "collapsed": false
   },
   "outputs": [],
   "source": [
    "ifs.open('cdk2.sdf')\n",
    "ifs.rewind()"
   ]
  },
  {
   "cell_type": "code",
   "execution_count": 7,
   "metadata": {
    "collapsed": false
   },
   "outputs": [
    {
     "name": "stdout",
     "output_type": "stream",
     "text": [
      "47\n"
     ]
    }
   ],
   "source": [
    "mols =[ ]\n",
    "\n",
    "for m in ifs.GetOEGraphMols():\n",
    "    newmol = oechem.OEGraphMol(m)\n",
    "    mols.append(newmol)\n",
    "print(len(mols))"
   ]
  },
  {
   "cell_type": "code",
   "execution_count": 8,
   "metadata": {
    "collapsed": false
   },
   "outputs": [],
   "source": [
    "opts = oemedchem.OEMatchedPairAnalyzerOptions()\n",
    "mmp = oemedchem.OEMatchedPairAnalyzer( opts )"
   ]
  },
  {
   "cell_type": "code",
   "execution_count": 9,
   "metadata": {
    "collapsed": false
   },
   "outputs": [],
   "source": [
    "record = 0\n",
    "for m in mols:\n",
    "    record += 1\n",
    "    status = mmp.AddMol(m, record)"
   ]
  },
  {
   "cell_type": "code",
   "execution_count": 10,
   "metadata": {
    "collapsed": false
   },
   "outputs": [
    {
     "name": "stdout",
     "output_type": "stream",
     "text": [
      "6\n"
     ]
    }
   ],
   "source": [
    "print(mmp.NumMatchedPairs())"
   ]
  },
  {
   "cell_type": "code",
   "execution_count": 11,
   "metadata": {
    "collapsed": false
   },
   "outputs": [],
   "source": [
    "chemctxt = oemedchem.OEMatchedPairContext_AllBonds"
   ]
  },
  {
   "cell_type": "code",
   "execution_count": 42,
   "metadata": {
    "collapsed": true
   },
   "outputs": [],
   "source": [
    "extractMode = (oemedchem.OEMatchedPairTransformExtractMode_NoSMARTS+\n",
    "              oemedchem.OEMatchedPairTransformExtractMode_AddAttachmentPts+\n",
    "              oemedchem.OEMatchedPairTransformExtractMode_AddMCSCorrespondence)"
   ]
  },
  {
   "cell_type": "code",
   "execution_count": 54,
   "metadata": {
    "collapsed": false
   },
   "outputs": [],
   "source": [
    "transforms = []\n",
    "for mmptransform in oemedchem.OEMatchedPairGetTransforms(mmp,\n",
    "                                                        chemctxt,\n",
    "                                                        extractMode):\n",
    "    transforms.append(mmptransform)"
   ]
  },
  {
   "cell_type": "code",
   "execution_count": 55,
   "metadata": {
    "collapsed": false
   },
   "outputs": [],
   "source": [
    "tf1=transforms[0]"
   ]
  },
  {
   "cell_type": "code",
   "execution_count": 56,
   "metadata": {
    "collapsed": true
   },
   "outputs": [],
   "source": [
    "from openeye import oedepict\n",
    "from IPython.display import Image"
   ]
  },
  {
   "cell_type": "code",
   "execution_count": 57,
   "metadata": {
    "collapsed": false
   },
   "outputs": [
    {
     "name": "stdout",
     "output_type": "stream",
     "text": [
      "[CH3:1][CH:17]([CH3:2])[C@H:19]([CH2:9][OH:26])[NH:24][c:16]1[n:21][c:14]([c:13]2[c:15]([n:22]1)[n:25]([cH:8][n:20]2)[CH:18]([CH3:3])[CH3:4])[NH:23][c:11]3[cH:6][cH:5][c:10]([c:12]([cH:7]3)[Cl:27])C(=O)[O-]>>[CH3:1][CH:17]([CH3:2])[C@H:19]([CH2:9][OH:26])[NH:24][c:16]1[n:21][c:14]([c:13]2[c:15]([n:22]1)[n:25]([cH:8][n:20]2)[CH:18]([CH3:3])[CH3:4])[NH:23][c:11]3[cH:6][cH:5][cH:10][c:12]([cH:7]3)[Cl:27]\n"
     ]
    }
   ],
   "source": [
    "print(tf1.GetTransform())"
   ]
  },
  {
   "cell_type": "code",
   "execution_count": 58,
   "metadata": {
    "collapsed": false
   },
   "outputs": [
    {
     "data": {
      "text/plain": [
       "True"
      ]
     },
     "execution_count": 58,
     "metadata": {},
     "output_type": "execute_result"
    }
   ],
   "source": [
    "w,h=400,300\n",
    "image = oedepict.OEImage(w,h)\n",
    "qmol = oechem.OEGraphMol()\n",
    "oechem.OEParseSmiles(qmol,tf1.GetTransform())"
   ]
  },
  {
   "cell_type": "code",
   "execution_count": 59,
   "metadata": {
    "collapsed": false
   },
   "outputs": [
    {
     "data": {
      "text/plain": [
       "True"
      ]
     },
     "execution_count": 59,
     "metadata": {},
     "output_type": "execute_result"
    }
   ],
   "source": [
    "oedepict.OEPrepareDepiction(qmol)"
   ]
  },
  {
   "cell_type": "code",
   "execution_count": 60,
   "metadata": {
    "collapsed": false
   },
   "outputs": [
    {
     "data": {
      "text/plain": [
       "True"
      ]
     },
     "execution_count": 60,
     "metadata": {},
     "output_type": "execute_result"
    }
   ],
   "source": [
    "oedepict.OERenderMolecule(image,qmol)"
   ]
  },
  {
   "cell_type": "code",
   "execution_count": 61,
   "metadata": {
    "collapsed": false
   },
   "outputs": [
    {
     "data": {
      "text/plain": [
       "True"
      ]
     },
     "execution_count": 61,
     "metadata": {},
     "output_type": "execute_result"
    }
   ],
   "source": [
    "oedepict.OERenderMolecule(image,qmol)"
   ]
  },
  {
   "cell_type": "code",
   "execution_count": 62,
   "metadata": {
    "collapsed": false
   },
   "outputs": [
    {
     "data": {
      "image/png": "[encoded data removed]",
      "text/plain": [
       "<IPython.core.display.Image object>"
      ]
     },
     "execution_count": 62,
     "metadata": {},
     "output_type": "execute_result"
    }
   ],
   "source": [
    "Image(data=oedepict.OEWriteImageToString('png',img))"
   ]
  }
 ],
 "metadata": {
  "kernelspec": {
   "display_name": "Python 2",
   "language": "python",
   "name": "python2"
  },
  "language_info": {
   "codemirror_mode": {
    "name": "ipython",
    "version": 2
   },
   "file_extension": ".py",
   "mimetype": "text/x-python",
   "name": "python",
   "nbconvert_exporter": "python",
   "pygments_lexer": "ipython2",
   "version": "2.7.10"
  }
 },
 "nbformat": 4,
 "nbformat_minor": 0
}
